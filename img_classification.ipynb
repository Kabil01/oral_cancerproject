{
 "cells": [
  {
   "cell_type": "code",
   "execution_count": 1,
   "id": "f3c17321",
   "metadata": {},
   "outputs": [
    {
     "name": "stdout",
     "output_type": "stream",
     "text": [
      "WARNING:tensorflow:From C:\\Users\\PRIYA\\AppData\\Roaming\\Python\\Python311\\site-packages\\keras\\src\\losses.py:2976: The name tf.losses.sparse_softmax_cross_entropy is deprecated. Please use tf.compat.v1.losses.sparse_softmax_cross_entropy instead.\n",
      "\n"
     ]
    }
   ],
   "source": [
    "import tensorflow as tf\n",
    "from tensorflow.keras import models, layers\n",
    "import matplotlib.pyplot as plt\n",
    "from PIL import Image\n",
    "import numpy as np\n",
    "from tensorflow.keras.layers.experimental import preprocessing\n",
    "from tensorflow.keras.preprocessing.image import load_img\n"
   ]
  },
  {
   "cell_type": "code",
   "execution_count": 2,
   "id": "0d5f3827",
   "metadata": {},
   "outputs": [],
   "source": [
    "import os\n",
    "import PIL\n",
    "import pathlib\n",
    "import pandas as pd\n",
    "import numpy as np\n",
    "import matplotlib.image as mpimg\n",
    "import matplotlib.pyplot as plt\n",
    "import tensorflow as tf\n",
    "from tensorflow import keras\n",
    "from tensorflow.keras import preprocessing\n",
    "from tensorflow.keras import layers\n",
    "from tensorflow.keras.models import Sequential\n",
    "from tensorflow.keras.layers import Dense, Dropout, Flatten, Conv2D, MaxPool2D\n",
    "from tensorflow.keras.optimizers import RMSprop\n",
    "from tensorflow.keras.models import Sequential\n",
    "from tensorflow.keras.layers import Dense, Dropout, Flatten, Conv2D, MaxPooling2D\n",
    "from tensorflow.keras.callbacks import EarlyStopping\n",
    "from tensorflow.python.ops.numpy_ops import np_utils"
   ]
  },
  {
   "cell_type": "code",
   "execution_count": 3,
   "id": "37a51124",
   "metadata": {},
   "outputs": [],
   "source": [
    "BATCH_SIZE = 32\n",
    "IMAGE_SIZE = 256\n",
    "EPOCHS=64\n",
    "CHANNELS=3"
   ]
  },
  {
   "cell_type": "code",
   "execution_count": 4,
   "id": "0a7dce36",
   "metadata": {},
   "outputs": [
    {
     "name": "stdout",
     "output_type": "stream",
     "text": [
      "Found 135 files belonging to 2 classes.\n"
     ]
    }
   ],
   "source": [
    "dataset = tf.keras.preprocessing.image_dataset_from_directory(\n",
    "    \"imageDataSet\",\n",
    "    seed=123,\n",
    "    shuffle=True,\n",
    "    image_size=(IMAGE_SIZE,IMAGE_SIZE),\n",
    "    batch_size=BATCH_SIZE\n",
    ")"
   ]
  },
  {
   "cell_type": "code",
   "execution_count": 5,
   "id": "3b28f6e0",
   "metadata": {},
   "outputs": [
    {
     "data": {
      "text/plain": [
       "['cancer', 'non-cancer']"
      ]
     },
     "execution_count": 5,
     "metadata": {},
     "output_type": "execute_result"
    }
   ],
   "source": [
    "class_names = dataset.class_names\n",
    "class_names"
   ]
  },
  {
   "cell_type": "code",
   "execution_count": 6,
   "id": "20ea5182",
   "metadata": {},
   "outputs": [
    {
     "data": {
      "text/plain": [
       "5"
      ]
     },
     "execution_count": 6,
     "metadata": {},
     "output_type": "execute_result"
    }
   ],
   "source": [
    "len(dataset)\n"
   ]
  },
  {
   "cell_type": "code",
   "execution_count": 7,
   "id": "55570ec9",
   "metadata": {},
   "outputs": [
    {
     "name": "stdout",
     "output_type": "stream",
     "text": [
      "(32, 256, 256, 3)\n",
      "tf.Tensor(\n",
      "[[[133.37305     97.37305     81.37305   ]\n",
      "  [136.16313    100.16313     84.16313   ]\n",
      "  [141.58879    105.58879     89.58879   ]\n",
      "  ...\n",
      "  [209.         194.94531    195.10938   ]\n",
      "  [210.73438    196.73438    196.73438   ]\n",
      "  [212.78906    198.78906    198.78906   ]]\n",
      "\n",
      " [[134.79985     98.79985     82.79985   ]\n",
      "  [138.19615    102.19615     86.19615   ]\n",
      "  [143.70508    107.70508     91.70508   ]\n",
      "  ...\n",
      "  [208.9734     194.91872    195.08278   ]\n",
      "  [210.73438    196.73438    196.73438   ]\n",
      "  [212.78906    198.78906    198.78906   ]]\n",
      "\n",
      " [[136.06145    100.06145     84.06145   ]\n",
      "  [138.89844    102.89844     86.89844   ]\n",
      "  [144.26308    108.26308     92.26308   ]\n",
      "  ...\n",
      "  [208.94531    194.89062    195.05469   ]\n",
      "  [210.73438    196.73438    196.73438   ]\n",
      "  [212.78906    198.78906    198.78906   ]]\n",
      "\n",
      " ...\n",
      "\n",
      " [[  8.378906     5.3789062    0.37890625]\n",
      "  [  9.644531     5.3789062    0.25901794]\n",
      "  [ 16.307404     9.198029     3.143341  ]\n",
      "  ...\n",
      "  [182.6436     156.6436     131.6436    ]\n",
      "  [182.6211     156.6211     131.6211    ]\n",
      "  [182.4716     156.4716     131.4716    ]]\n",
      "\n",
      " [[ 10.           7.           2.        ]\n",
      "  [ 11.265625     7.           1.3671875 ]\n",
      "  [ 16.21875      9.109375     3.0546875 ]\n",
      "  ...\n",
      "  [182.05469    156.05469    131.05469   ]\n",
      "  [181.         155.         130.        ]\n",
      "  [180.61626    154.61626    129.61626   ]]\n",
      "\n",
      " [[ 10.837891     7.8378906    2.8378906 ]\n",
      "  [ 12.103516     7.8378906    2.2050781 ]\n",
      "  [ 17.05664      9.947266     3.8925781 ]\n",
      "  ...\n",
      "  [182.05469    156.05469    131.05469   ]\n",
      "  [181.83789    155.83789    130.83789   ]\n",
      "  [181.17674    155.17674    130.17674   ]]], shape=(256, 256, 3), dtype=float32)\n",
      "[1 1 0 0 0 0 0 0 0 0 1 0 0 0 1 1 0 0 0 1 0 0 0 1 1 0 1 0 0 1 1 0]\n"
     ]
    }
   ],
   "source": [
    "for image_batch, label_batch in dataset.take(1):\n",
    "  print(image_batch.shape)\n",
    "  print(image_batch[1])\n",
    "  print(label_batch.numpy())"
   ]
  },
  {
   "cell_type": "code",
   "execution_count": 8,
   "id": "b620d85e",
   "metadata": {},
   "outputs": [],
   "source": [
    "def get_dataset_partitions_tf(ds, train_split=0.8, val_split=0.0, test_split=0.2, shuffle=True, shuffle_size=10000):\n",
    "    assert (train_split + test_split + val_split) == 1\n",
    "    ds_size = len(ds)\n",
    "    if shuffle:\n",
    "        ds = ds.shuffle(shuffle_size, seed=12)\n",
    "    train_size = int(train_split * ds_size)\n",
    "    val_size = int(val_split * ds_size)\n",
    "    train_ds = ds.take(train_size)    \n",
    "    val_ds = ds.skip(train_size).take(val_size)\n",
    "    test_ds = ds.skip(train_size).skip(val_size)\n",
    "    # Autotune all the 3 datasets \n",
    "    train_ds = train_ds.cache().shuffle(1000).prefetch(buffer_size=tf.data.AUTOTUNE)\n",
    "    val_ds = val_ds.cache().shuffle(1000).prefetch(buffer_size=tf.data.AUTOTUNE)\n",
    "    test_ds = test_ds.cache().shuffle(1000).prefetch(buffer_size=tf.data.AUTOTUNE)\n",
    "    return train_ds, val_ds, test_ds"
   ]
  },
  {
   "cell_type": "code",
   "execution_count": 9,
   "id": "ea0b160b",
   "metadata": {},
   "outputs": [
    {
     "name": "stdout",
     "output_type": "stream",
     "text": [
      "5\n"
     ]
    }
   ],
   "source": [
    "train_ds, val_ds, test_ds = get_dataset_partitions_tf(dataset)\n",
    "print(len(dataset))"
   ]
  },
  {
   "cell_type": "code",
   "execution_count": 10,
   "id": "44677c27",
   "metadata": {},
   "outputs": [
    {
     "name": "stdout",
     "output_type": "stream",
     "text": [
      "WARNING:tensorflow:From C:\\Users\\PRIYA\\AppData\\Roaming\\Python\\Python311\\site-packages\\keras\\src\\backend.py:873: The name tf.get_default_graph is deprecated. Please use tf.compat.v1.get_default_graph instead.\n",
      "\n"
     ]
    }
   ],
   "source": [
    "resize_and_rescale = tf.keras.Sequential([\n",
    "  layers.experimental.preprocessing.Resizing(IMAGE_SIZE, IMAGE_SIZE),\n",
    "  layers.experimental.preprocessing.Rescaling(1./255),\n",
    "])"
   ]
  },
  {
   "cell_type": "code",
   "execution_count": 44,
   "id": "b9cfbf6f",
   "metadata": {},
   "outputs": [],
   "source": [
    "input_shape = (BATCH_SIZE, IMAGE_SIZE, IMAGE_SIZE, CHANNELS)\n",
    "n_classes = 2\n",
    "\n",
    "model = models.Sequential([\n",
    "    resize_and_rescale,\n",
    "    # data_augmentation,\n",
    "    layers.Conv2D(32, kernel_size = (3,3), activation='relu', input_shape=input_shape),\n",
    "    layers.MaxPooling2D((2, 2)),\n",
    "    layers.Conv2D(64,  kernel_size = (3,3), activation='relu'),\n",
    "    layers.MaxPooling2D((2, 2)),\n",
    "    layers.Conv2D(64,  kernel_size = (3,3), activation='relu'),\n",
    "    layers.MaxPooling2D((2, 2)),\n",
    "    layers.Conv2D(64, (3, 3), activation='relu'),\n",
    "    layers.MaxPooling2D((2, 2)),\n",
    "    layers.Conv2D(64, (3, 3), activation='relu'),\n",
    "    layers.MaxPooling2D((2, 2)),\n",
    "    layers.Conv2D(64, (3, 3), activation='relu'),\n",
    "    layers.MaxPooling2D((2, 2)),\n",
    "    layers.Flatten(),\n",
    "    layers.Dense(64, activation='relu'),\n",
    "    layers.Dense(n_classes, activation='softmax'),\n",
    "])\n",
    "model.build(input_shape=input_shape)"
   ]
  },
  {
   "cell_type": "code",
   "execution_count": 56,
   "id": "425dc38a",
   "metadata": {},
   "outputs": [],
   "source": [
    "model.compile(\n",
    "    optimizer='adam',\n",
    "    loss=tf.keras.losses.BinaryCrossentropy(from_logits=False),\n",
    "    metrics=['accuracy']\n",
    ")"
   ]
  },
  {
   "cell_type": "code",
   "execution_count": 57,
   "id": "914103df",
   "metadata": {},
   "outputs": [
    {
     "name": "stdout",
     "output_type": "stream",
     "text": [
      "Model: \"sequential_3\"\n",
      "_________________________________________________________________\n",
      " Layer (type)                Output Shape              Param #   \n",
      "=================================================================\n",
      " sequential (Sequential)     (None, 256, 256, 3)       0         \n",
      "                                                                 \n",
      " conv2d_12 (Conv2D)          (None, 254, 254, 32)      896       \n",
      "                                                                 \n",
      " max_pooling2d_12 (MaxPooli  (None, 127, 127, 32)      0         \n",
      " ng2D)                                                           \n",
      "                                                                 \n",
      " conv2d_13 (Conv2D)          (None, 125, 125, 64)      18496     \n",
      "                                                                 \n",
      " max_pooling2d_13 (MaxPooli  (None, 62, 62, 64)        0         \n",
      " ng2D)                                                           \n",
      "                                                                 \n",
      " conv2d_14 (Conv2D)          (None, 60, 60, 64)        36928     \n",
      "                                                                 \n",
      " max_pooling2d_14 (MaxPooli  (None, 30, 30, 64)        0         \n",
      " ng2D)                                                           \n",
      "                                                                 \n",
      " conv2d_15 (Conv2D)          (None, 28, 28, 64)        36928     \n",
      "                                                                 \n",
      " max_pooling2d_15 (MaxPooli  (None, 14, 14, 64)        0         \n",
      " ng2D)                                                           \n",
      "                                                                 \n",
      " conv2d_16 (Conv2D)          (None, 12, 12, 64)        36928     \n",
      "                                                                 \n",
      " max_pooling2d_16 (MaxPooli  (None, 6, 6, 64)          0         \n",
      " ng2D)                                                           \n",
      "                                                                 \n",
      " conv2d_17 (Conv2D)          (None, 4, 4, 64)          36928     \n",
      "                                                                 \n",
      " max_pooling2d_17 (MaxPooli  (None, 2, 2, 64)          0         \n",
      " ng2D)                                                           \n",
      "                                                                 \n",
      " flatten_2 (Flatten)         (None, 256)               0         \n",
      "                                                                 \n",
      " dense_4 (Dense)             (None, 64)                16448     \n",
      "                                                                 \n",
      " dense_5 (Dense)             (None, 2)                 130       \n",
      "                                                                 \n",
      "=================================================================\n",
      "Total params: 183682 (717.51 KB)\n",
      "Trainable params: 183682 (717.51 KB)\n",
      "Non-trainable params: 0 (0.00 Byte)\n",
      "_________________________________________________________________\n"
     ]
    }
   ],
   "source": [
    "model.summary()"
   ]
  },
  {
   "cell_type": "code",
   "execution_count": 58,
   "id": "250a0eec",
   "metadata": {},
   "outputs": [
    {
     "name": "stdout",
     "output_type": "stream",
     "text": [
      "Epoch 1/64\n"
     ]
    },
    {
     "name": "stdout",
     "output_type": "stream",
     "text": [
      "4/4 [==============================] - 3s 389ms/step - loss: 0.1063 - accuracy: 0.9709\n",
      "Epoch 2/64\n",
      "4/4 [==============================] - 2s 442ms/step - loss: 0.0619 - accuracy: 0.9903\n",
      "Epoch 3/64\n",
      "4/4 [==============================] - 2s 441ms/step - loss: 0.0595 - accuracy: 0.9709\n",
      "Epoch 4/64\n",
      "4/4 [==============================] - 2s 454ms/step - loss: 0.0766 - accuracy: 0.9806\n",
      "Epoch 5/64\n",
      "4/4 [==============================] - 2s 389ms/step - loss: 0.0247 - accuracy: 0.9903\n",
      "Epoch 6/64\n",
      "4/4 [==============================] - 2s 534ms/step - loss: 0.0365 - accuracy: 0.9903\n",
      "Epoch 7/64\n",
      "4/4 [==============================] - 2s 388ms/step - loss: 0.1197 - accuracy: 0.9806\n",
      "Epoch 8/64\n",
      "4/4 [==============================] - 2s 386ms/step - loss: 0.0148 - accuracy: 0.9903\n",
      "Epoch 9/64\n",
      "4/4 [==============================] - 2s 390ms/step - loss: 0.0699 - accuracy: 0.9806\n",
      "Epoch 10/64\n",
      "4/4 [==============================] - 2s 394ms/step - loss: 0.0488 - accuracy: 0.9806\n",
      "Epoch 11/64\n",
      "4/4 [==============================] - 2s 520ms/step - loss: 0.0309 - accuracy: 0.9903\n",
      "Epoch 12/64\n",
      "4/4 [==============================] - 2s 383ms/step - loss: 0.0524 - accuracy: 0.9903\n",
      "Epoch 13/64\n",
      "4/4 [==============================] - 2s 416ms/step - loss: 0.0301 - accuracy: 0.9903\n",
      "Epoch 14/64\n",
      "4/4 [==============================] - 2s 442ms/step - loss: 0.0257 - accuracy: 0.9903\n",
      "Epoch 15/64\n",
      "4/4 [==============================] - 2s 604ms/step - loss: 0.0275 - accuracy: 0.9903\n",
      "Epoch 16/64\n",
      "4/4 [==============================] - 2s 555ms/step - loss: 0.0236 - accuracy: 0.9903\n",
      "Epoch 17/64\n",
      "4/4 [==============================] - 2s 418ms/step - loss: 0.0227 - accuracy: 0.9806\n",
      "Epoch 18/64\n",
      "4/4 [==============================] - 2s 396ms/step - loss: 0.0264 - accuracy: 0.9806\n",
      "Epoch 19/64\n",
      "4/4 [==============================] - 2s 569ms/step - loss: 0.0277 - accuracy: 0.9806\n",
      "Epoch 20/64\n",
      "4/4 [==============================] - 2s 394ms/step - loss: 0.0245 - accuracy: 0.9806\n",
      "Epoch 21/64\n",
      "4/4 [==============================] - 2s 434ms/step - loss: 0.0263 - accuracy: 0.9903\n",
      "Epoch 22/64\n",
      "4/4 [==============================] - 2s 532ms/step - loss: 0.0180 - accuracy: 0.9903\n",
      "Epoch 23/64\n",
      "4/4 [==============================] - 2s 527ms/step - loss: 0.0182 - accuracy: 0.9806\n",
      "Epoch 24/64\n",
      "4/4 [==============================] - 2s 541ms/step - loss: 0.0291 - accuracy: 0.9903\n",
      "Epoch 25/64\n",
      "4/4 [==============================] - 2s 428ms/step - loss: 0.0130 - accuracy: 0.9903\n",
      "Epoch 26/64\n",
      "4/4 [==============================] - 2s 468ms/step - loss: 0.0346 - accuracy: 0.9903\n",
      "Epoch 27/64\n",
      "4/4 [==============================] - 2s 591ms/step - loss: 0.0322 - accuracy: 0.9903\n",
      "Epoch 28/64\n",
      "4/4 [==============================] - 2s 403ms/step - loss: 0.0156 - accuracy: 0.9903\n",
      "Epoch 29/64\n",
      "4/4 [==============================] - 2s 489ms/step - loss: 0.0169 - accuracy: 0.9903\n",
      "Epoch 30/64\n",
      "4/4 [==============================] - 2s 480ms/step - loss: 0.0318 - accuracy: 0.9903\n",
      "Epoch 31/64\n",
      "4/4 [==============================] - 2s 470ms/step - loss: 0.0111 - accuracy: 0.9903\n",
      "Epoch 32/64\n",
      "4/4 [==============================] - 2s 463ms/step - loss: 0.0559 - accuracy: 0.9903\n",
      "Epoch 33/64\n",
      "4/4 [==============================] - 2s 607ms/step - loss: 0.0346 - accuracy: 0.9903\n",
      "Epoch 34/64\n",
      "4/4 [==============================] - 2s 482ms/step - loss: 0.0324 - accuracy: 0.9903\n",
      "Epoch 35/64\n",
      "4/4 [==============================] - 2s 612ms/step - loss: 0.0291 - accuracy: 0.9903\n",
      "Epoch 36/64\n",
      "4/4 [==============================] - 2s 435ms/step - loss: 0.0285 - accuracy: 0.9806\n",
      "Epoch 37/64\n",
      "4/4 [==============================] - 2s 450ms/step - loss: 0.0301 - accuracy: 0.9806\n",
      "Epoch 38/64\n",
      "4/4 [==============================] - 2s 428ms/step - loss: 0.0196 - accuracy: 0.9806\n",
      "Epoch 39/64\n",
      "4/4 [==============================] - 2s 434ms/step - loss: 0.0460 - accuracy: 0.9903\n",
      "Epoch 40/64\n",
      "4/4 [==============================] - 2s 431ms/step - loss: 0.0111 - accuracy: 0.9903\n",
      "Epoch 41/64\n",
      "4/4 [==============================] - 2s 435ms/step - loss: 0.0179 - accuracy: 0.9903\n",
      "Epoch 42/64\n",
      "4/4 [==============================] - 2s 428ms/step - loss: 0.0250 - accuracy: 0.9903\n",
      "Epoch 43/64\n",
      "4/4 [==============================] - 2s 428ms/step - loss: 0.0179 - accuracy: 0.9903\n",
      "Epoch 44/64\n",
      "4/4 [==============================] - 2s 430ms/step - loss: 0.0261 - accuracy: 0.9903\n",
      "Epoch 45/64\n",
      "4/4 [==============================] - 2s 583ms/step - loss: 0.0220 - accuracy: 0.9806\n",
      "Epoch 46/64\n",
      "4/4 [==============================] - 2s 445ms/step - loss: 0.0281 - accuracy: 0.9903\n",
      "Epoch 47/64\n",
      "4/4 [==============================] - 2s 642ms/step - loss: 0.0186 - accuracy: 0.9903\n",
      "Epoch 48/64\n",
      "4/4 [==============================] - 2s 484ms/step - loss: 0.0228 - accuracy: 0.9903\n",
      "Epoch 49/64\n",
      "4/4 [==============================] - 2s 455ms/step - loss: 0.0286 - accuracy: 0.9806\n",
      "Epoch 50/64\n",
      "4/4 [==============================] - 2s 473ms/step - loss: 0.0215 - accuracy: 0.9903\n",
      "Epoch 51/64\n",
      "4/4 [==============================] - 2s 429ms/step - loss: 0.0155 - accuracy: 0.9903\n",
      "Epoch 52/64\n",
      "4/4 [==============================] - 2s 428ms/step - loss: 0.0310 - accuracy: 0.9903\n",
      "Epoch 53/64\n",
      "4/4 [==============================] - 2s 672ms/step - loss: 0.0212 - accuracy: 0.9903\n",
      "Epoch 54/64\n",
      "4/4 [==============================] - 2s 464ms/step - loss: 0.0150 - accuracy: 0.9903\n",
      "Epoch 55/64\n",
      "4/4 [==============================] - 2s 608ms/step - loss: 0.0223 - accuracy: 0.9903\n",
      "Epoch 56/64\n",
      "4/4 [==============================] - 2s 438ms/step - loss: 0.0183 - accuracy: 0.9903\n",
      "Epoch 57/64\n",
      "4/4 [==============================] - 2s 435ms/step - loss: 0.0252 - accuracy: 0.9903\n",
      "Epoch 58/64\n",
      "4/4 [==============================] - 2s 440ms/step - loss: 0.0275 - accuracy: 0.9806\n",
      "Epoch 59/64\n",
      "4/4 [==============================] - 2s 475ms/step - loss: 0.0184 - accuracy: 0.9806\n",
      "Epoch 60/64\n",
      "4/4 [==============================] - 2s 471ms/step - loss: 0.0170 - accuracy: 0.9806\n",
      "Epoch 61/64\n",
      "4/4 [==============================] - 2s 444ms/step - loss: 0.0182 - accuracy: 0.9903\n",
      "Epoch 62/64\n",
      "4/4 [==============================] - 2s 439ms/step - loss: 0.0183 - accuracy: 0.9903\n",
      "Epoch 63/64\n",
      "4/4 [==============================] - 2s 479ms/step - loss: 0.0196 - accuracy: 0.9806\n",
      "Epoch 64/64\n",
      "4/4 [==============================] - 2s 431ms/step - loss: 0.0214 - accuracy: 0.9903\n"
     ]
    }
   ],
   "source": [
    "history = model.fit(\n",
    "    train_ds,\n",
    "    batch_size=BATCH_SIZE,\n",
    "    verbose=1,\n",
    "    epochs=64,\n",
    ")"
   ]
  },
  {
   "cell_type": "code",
   "execution_count": 59,
   "id": "c8669afe",
   "metadata": {},
   "outputs": [
    {
     "name": "stdout",
     "output_type": "stream",
     "text": [
      "1/1 [==============================] - 0s 321ms/step - loss: 0.3327 - accuracy: 0.9688\n"
     ]
    },
    {
     "data": {
      "text/plain": [
       "[0.33268794417381287, 0.96875]"
      ]
     },
     "execution_count": 59,
     "metadata": {},
     "output_type": "execute_result"
    }
   ],
   "source": [
    "model.evaluate(test_ds)"
   ]
  },
  {
   "cell_type": "code",
   "execution_count": 32,
   "id": "558e38f1",
   "metadata": {},
   "outputs": [],
   "source": [
    "acc = history.history['accuracy']\n",
    "loss = history.history['loss']"
   ]
  },
  {
   "cell_type": "code",
   "execution_count": 33,
   "id": "f83aee8a",
   "metadata": {},
   "outputs": [
    {
     "data": {
      "image/png": "[encoded data removed]",
      "text/plain": [
       "<Figure size 1200x500 with 2 Axes>"
      ]
     },
     "metadata": {},
     "output_type": "display_data"
    }
   ],
   "source": [
    "plt.figure(figsize=(12,5))\n",
    "plt.subplot(1, 2, 1)\n",
    "plt.plot(range(64), acc, label=' Accuracy')\n",
    "plt.legend(loc='lower right')\n",
    "plt.title('Accuracy')\n",
    "plt.subplot(1, 2, 2)\n",
    "plt.plot(range(64), loss, label=' Loss')\n",
    "plt.legend(loc='upper right')\n",
    "plt.title('Loss')\n",
    "plt.show()"
   ]
  },
  {
   "cell_type": "code",
   "execution_count": 34,
   "id": "368a3e64",
   "metadata": {},
   "outputs": [],
   "source": [
    "image_path = \"imageDataSet/cancer/01960a64-cfe8-444d-bbc5-575c15389a21.jpg\"\n",
    "image = preprocessing.image.load_img(image_path)\n",
    "image_array = preprocessing.image.img_to_array(image)\n",
    "scaled_img = np.expand_dims(image_array, axis=0)"
   ]
  },
  {
   "cell_type": "code",
   "execution_count": 35,
   "id": "fe29017e",
   "metadata": {},
   "outputs": [
    {
     "name": "stdout",
     "output_type": "stream",
     "text": [
      "1/1 [==============================] - 0s 282ms/step\n",
      "0\n"
     ]
    }
   ],
   "source": [
    "pred = model.predict(scaled_img)\n",
    "print(np.argmax(pred))"
   ]
  },
  {
   "cell_type": "code",
   "execution_count": 36,
   "id": "4a019bed",
   "metadata": {},
   "outputs": [
    {
     "data": {
      "text/plain": [
       "'cancer'"
      ]
     },
     "execution_count": 36,
     "metadata": {},
     "output_type": "execute_result"
    }
   ],
   "source": [
    "output = class_names[np.argmax(pred)]\n",
    "output"
   ]
  },
  {
   "cell_type": "code",
   "execution_count": 37,
   "id": "d46017f0",
   "metadata": {},
   "outputs": [],
   "source": [
    "model.save(\"Oral cancer detection1[img].keras\")"
   ]
  },
  {
   "cell_type": "code",
   "execution_count": 38,
   "id": "e2bb5caf",
   "metadata": {},
   "outputs": [],
   "source": [
    "from tensorflow.keras.models import load_model\n",
    "model=load_model('Oral cancer detection1[img].keras')"
   ]
  },
  {
   "cell_type": "code",
   "execution_count": 39,
   "id": "fdd126f0",
   "metadata": {},
   "outputs": [],
   "source": [
    "def predict_class(image_path, model, class_names):\n",
    "    # Load and preprocess the image\n",
    "    image = preprocessing.image.load_img(image_path)\n",
    "    image_array = preprocessing.image.img_to_array(image)\n",
    "    scaled_img = np.expand_dims(image_array, axis=0)\n",
    "\n",
    "    # Perform prediction\n",
    "    pred = model.predict(scaled_img)\n",
    "    print(np.argmax(pred))\n",
    "    predicted_class_index = np.argmax(pred)\n",
    "    class_names=['cancer','non-cancer']\n",
    "    predicted_class = class_names[predicted_class_index]\n",
    "    print(class_names)\n",
    "    output = class_names[np.argmax(pred)]\n",
    "    return output\n",
    "\n",
    "\n"
   ]
  },
  {
   "cell_type": "code",
   "execution_count": 40,
   "id": "d3562e0c",
   "metadata": {},
   "outputs": [
    {
     "name": "stdout",
     "output_type": "stream",
     "text": [
      "WARNING:tensorflow:5 out of the last 5 calls to <function Model.make_predict_function.<locals>.predict_function at 0x000002C24AFD6480> triggered tf.function retracing. Tracing is expensive and the excessive number of tracings could be due to (1) creating @tf.function repeatedly in a loop, (2) passing tensors with different shapes, (3) passing Python objects instead of tensors. For (1), please define your @tf.function outside of the loop. For (2), @tf.function has reduce_retracing=True option that can avoid unnecessary retracing. For (3), please refer to https://www.tensorflow.org/guide/function#controlling_retracing and https://www.tensorflow.org/api_docs/python/tf/function for  more details.\n",
      "1/1 [==============================] - 0s 157ms/step\n",
      "0\n",
      "['cancer', 'non-cancer']\n",
      "Predicted class: <function predict_class at 0x000002C2097A7740>\n"
     ]
    }
   ],
   "source": [
    "image_path = \"imageDataSet/cancer/01960a64-cfe8-444d-bbc5-575c15389a21.jpg\"\n",
    "class_names=['cancer','non-cancer']\n",
    "predicted_class = predict_class(image_path, model, class_names)\n",
    "print(\"Predicted class:\", predict_class)"
   ]
  },
  {
   "cell_type": "code",
   "execution_count": 41,
   "id": "17bda6bc",
   "metadata": {},
   "outputs": [
    {
     "name": "stdout",
     "output_type": "stream",
     "text": [
      "WARNING:tensorflow:6 out of the last 6 calls to <function Model.make_predict_function.<locals>.predict_function at 0x000002C24AFD6480> triggered tf.function retracing. Tracing is expensive and the excessive number of tracings could be due to (1) creating @tf.function repeatedly in a loop, (2) passing tensors with different shapes, (3) passing Python objects instead of tensors. For (1), please define your @tf.function outside of the loop. For (2), @tf.function has reduce_retracing=True option that can avoid unnecessary retracing. For (3), please refer to https://www.tensorflow.org/guide/function#controlling_retracing and https://www.tensorflow.org/api_docs/python/tf/function for  more details.\n",
      "1/1 [==============================] - 0s 175ms/step\n",
      "0\n",
      "['cancer', 'non-cancer']\n",
      "Predicted class: cancer\n"
     ]
    }
   ],
   "source": [
    "image_path = \"imageDataSet/cancer/cancer_4.jpg\"\n",
    "predicted_class = predict_class(image_path, model, class_names)\n",
    "print(\"Predicted class:\", predicted_class)"
   ]
  },
  {
   "cell_type": "code",
   "execution_count": 42,
   "id": "23e45470",
   "metadata": {},
   "outputs": [],
   "source": [
    "import pickle\n",
    "pickle.dump(model,open('model_2.pkl','wb'))\n",
    "model = pickle.load(open('model_2.pkl','rb'))"
   ]
  },
  {
   "cell_type": "code",
   "execution_count": null,
   "id": "4fa30ca6",
   "metadata": {},
   "outputs": [],
   "source": []
  },
  {
   "cell_type": "code",
   "execution_count": null,
   "id": "2a710ce4",
   "metadata": {},
   "outputs": [],
   "source": []
  },
  {
   "cell_type": "code",
   "execution_count": null,
   "id": "5d1dca02",
   "metadata": {},
   "outputs": [],
   "source": []
  }
 ],
 "metadata": {
  "kernelspec": {
   "display_name": "Python 3 (ipykernel)",
   "language": "python",
   "name": "python3"
  },
  "language_info": {
   "codemirror_mode": {
    "name": "ipython",
    "version": 3
   },
   "file_extension": ".py",
   "mimetype": "text/x-python",
   "name": "python",
   "nbconvert_exporter": "python",
   "pygments_lexer": "ipython3",
   "version": "3.11.7"
  }
 },
 "nbformat": 4,
 "nbformat_minor": 5
}
